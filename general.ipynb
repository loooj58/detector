{
 "cells": [
  {
   "cell_type": "code",
   "execution_count": 1,
   "metadata": {},
   "outputs": [],
   "source": [
    "import matplotlib.pyplot as plt\n",
    "import scipy.optimize as spopt\n",
    "import numpy as np\n",
    "\n",
    "file = open('results.txt', 'r')\n",
    "lines = [list(map(lambda x: float(x), line.split())) for line in file.readlines()]\n",
    "file.close()"
   ]
  },
  {
   "cell_type": "code",
   "execution_count": 2,
   "metadata": {},
   "outputs": [],
   "source": [
    "data = {}\n",
    "for line in lines:\n",
    "    data[(line[0], line[1])] = line[2:]"
   ]
  },
  {
   "cell_type": "code",
   "execution_count": 3,
   "metadata": {},
   "outputs": [
    {
     "name": "stdout",
     "output_type": "stream",
     "text": [
      "a = 0.9214337401881008 +- 0.04327423657767221\n",
      "b = 1.8666107325030918 +- 0.0577057717550398\n"
     ]
    },
    {
     "data": {
      "image/png": "[encoded data removed]",
      "text/plain": [
       "<Figure size 432x288 with 1 Axes>"
      ]
     },
     "metadata": {
      "needs_background": "light"
     },
     "output_type": "display_data"
    }
   ],
   "source": [
    "x = []\n",
    "y = []\n",
    "yerr = []\n",
    "for key, value in data.items():\n",
    "    ratio_abs_sd = key[0] / key[1]\n",
    "    x.append(ratio_abs_sd)\n",
    "    y.append(value[2])\n",
    "    yerr.append(value[3])\n",
    "\n",
    "# fit\n",
    "popt, pcov = spopt.curve_fit(lambda z, a, b: a*np.sqrt(z)+b, x, y, sigma = yerr)\n",
    "a, b = popt\n",
    "delta_a, delta_b = np.sqrt(np.diag(pcov))\n",
    "plt.errorbar(x, y, fmt='o', markersize=2, yerr=yerr)\n",
    "z = np.linspace(sorted(x)[0], sorted(x)[-1], 500)\n",
    "plt.plot(z, a*np.sqrt(z)+b)\n",
    "print(f\"a = {a} +- {delta_a}\\nb = {b} +- {delta_b}\")"
   ]
  },
  {
   "cell_type": "code",
   "execution_count": null,
   "metadata": {},
   "outputs": [],
   "source": []
  },
  {
   "cell_type": "code",
   "execution_count": null,
   "metadata": {},
   "outputs": [],
   "source": []
  }
 ],
 "metadata": {
  "@webio": {
   "lastCommId": null,
   "lastKernelId": null
  },
  "hide_input": false,
  "kernelspec": {
   "display_name": "Python 3",
   "language": "python",
   "name": "python3"
  },
  "language_info": {
   "codemirror_mode": {
    "name": "ipython",
    "version": 3
   },
   "file_extension": ".py",
   "mimetype": "text/x-python",
   "name": "python",
   "nbconvert_exporter": "python",
   "pygments_lexer": "ipython3",
   "version": "3.7.3"
  }
 },
 "nbformat": 4,
 "nbformat_minor": 2
}
